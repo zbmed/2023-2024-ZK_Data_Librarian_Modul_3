{
 "cells": [
  {
   "cell_type": "markdown",
   "metadata": {},
   "source": [
    "# Statistische Inferenz: Bootstratp Konfidenzintervalle\n",
    "\n"
   ]
  },
  {
   "cell_type": "code",
   "execution_count": 14,
   "metadata": {},
   "outputs": [
    {
     "data": {
      "text/html": [
       "<div>\n",
       "<style scoped>\n",
       "    .dataframe tbody tr th:only-of-type {\n",
       "        vertical-align: middle;\n",
       "    }\n",
       "\n",
       "    .dataframe tbody tr th {\n",
       "        vertical-align: top;\n",
       "    }\n",
       "\n",
       "    .dataframe thead th {\n",
       "        text-align: right;\n",
       "    }\n",
       "</style>\n",
       "<table border=\"1\" class=\"dataframe\">\n",
       "  <thead>\n",
       "    <tr style=\"text-align: right;\">\n",
       "      <th></th>\n",
       "      <th>Patron Type Code</th>\n",
       "      <th>Patron Type Definition</th>\n",
       "      <th>Total Checkouts</th>\n",
       "      <th>Total Renewals</th>\n",
       "      <th>Age Range</th>\n",
       "      <th>Home Library Code</th>\n",
       "      <th>Home Library Definition</th>\n",
       "      <th>Circulation Active Month</th>\n",
       "      <th>Circulation Active Year</th>\n",
       "      <th>Notice Preference Code</th>\n",
       "      <th>Notice Preference Definition</th>\n",
       "      <th>Provided Email Address</th>\n",
       "      <th>Year Patron Registered</th>\n",
       "      <th>Within San Francisco County</th>\n",
       "    </tr>\n",
       "  </thead>\n",
       "  <tbody>\n",
       "    <tr>\n",
       "      <th>37223</th>\n",
       "      <td>2</td>\n",
       "      <td>Teen</td>\n",
       "      <td>3</td>\n",
       "      <td>2</td>\n",
       "      <td>10 to 19 years</td>\n",
       "      <td>b4</td>\n",
       "      <td>Bernal</td>\n",
       "      <td>Mar</td>\n",
       "      <td>2016.0</td>\n",
       "      <td>z</td>\n",
       "      <td>Email</td>\n",
       "      <td>True</td>\n",
       "      <td>2010</td>\n",
       "      <td>False</td>\n",
       "    </tr>\n",
       "    <tr>\n",
       "      <th>57957</th>\n",
       "      <td>0</td>\n",
       "      <td>Adult</td>\n",
       "      <td>109</td>\n",
       "      <td>50</td>\n",
       "      <td>45 to 54 years</td>\n",
       "      <td>m8</td>\n",
       "      <td>Mission Bay</td>\n",
       "      <td>Sep</td>\n",
       "      <td>2016.0</td>\n",
       "      <td>z</td>\n",
       "      <td>Email</td>\n",
       "      <td>True</td>\n",
       "      <td>2010</td>\n",
       "      <td>False</td>\n",
       "    </tr>\n",
       "    <tr>\n",
       "      <th>64977</th>\n",
       "      <td>2</td>\n",
       "      <td>Teen</td>\n",
       "      <td>146</td>\n",
       "      <td>11</td>\n",
       "      <td>10 to 19 years</td>\n",
       "      <td>p7</td>\n",
       "      <td>Potrero</td>\n",
       "      <td>Aug</td>\n",
       "      <td>2016.0</td>\n",
       "      <td>z</td>\n",
       "      <td>Email</td>\n",
       "      <td>True</td>\n",
       "      <td>2010</td>\n",
       "      <td>False</td>\n",
       "    </tr>\n",
       "    <tr>\n",
       "      <th>65696</th>\n",
       "      <td>2</td>\n",
       "      <td>Teen</td>\n",
       "      <td>20</td>\n",
       "      <td>0</td>\n",
       "      <td>10 to 19 years</td>\n",
       "      <td>p7</td>\n",
       "      <td>Potrero</td>\n",
       "      <td>Feb</td>\n",
       "      <td>2016.0</td>\n",
       "      <td>z</td>\n",
       "      <td>Email</td>\n",
       "      <td>True</td>\n",
       "      <td>2010</td>\n",
       "      <td>False</td>\n",
       "    </tr>\n",
       "    <tr>\n",
       "      <th>72677</th>\n",
       "      <td>0</td>\n",
       "      <td>Adult</td>\n",
       "      <td>25</td>\n",
       "      <td>0</td>\n",
       "      <td>20 to 24 years</td>\n",
       "      <td>c2</td>\n",
       "      <td>Chinatown</td>\n",
       "      <td>Jul</td>\n",
       "      <td>2016.0</td>\n",
       "      <td>z</td>\n",
       "      <td>Email</td>\n",
       "      <td>True</td>\n",
       "      <td>2010</td>\n",
       "      <td>False</td>\n",
       "    </tr>\n",
       "  </tbody>\n",
       "</table>\n",
       "</div>"
      ],
      "text/plain": [
       "       Patron Type Code Patron Type Definition  Total Checkouts  \\\n",
       "37223                 2                   Teen                3   \n",
       "57957                 0                  Adult              109   \n",
       "64977                 2                   Teen              146   \n",
       "65696                 2                   Teen               20   \n",
       "72677                 0                  Adult               25   \n",
       "\n",
       "       Total Renewals       Age Range Home Library Code  \\\n",
       "37223               2  10 to 19 years                b4   \n",
       "57957              50  45 to 54 years                m8   \n",
       "64977              11  10 to 19 years                p7   \n",
       "65696               0  10 to 19 years                p7   \n",
       "72677               0  20 to 24 years                c2   \n",
       "\n",
       "      Home Library Definition Circulation Active Month  \\\n",
       "37223                  Bernal                      Mar   \n",
       "57957             Mission Bay                      Sep   \n",
       "64977                 Potrero                      Aug   \n",
       "65696                 Potrero                      Feb   \n",
       "72677               Chinatown                      Jul   \n",
       "\n",
       "       Circulation Active Year Notice Preference Code  \\\n",
       "37223                   2016.0                      z   \n",
       "57957                   2016.0                      z   \n",
       "64977                   2016.0                      z   \n",
       "65696                   2016.0                      z   \n",
       "72677                   2016.0                      z   \n",
       "\n",
       "      Notice Preference Definition  Provided Email Address  \\\n",
       "37223                        Email                    True   \n",
       "57957                        Email                    True   \n",
       "64977                        Email                    True   \n",
       "65696                        Email                    True   \n",
       "72677                        Email                    True   \n",
       "\n",
       "       Year Patron Registered Within San Francisco County  \n",
       "37223                    2010                       False  \n",
       "57957                    2010                       False  \n",
       "64977                    2010                       False  \n",
       "65696                    2010                       False  \n",
       "72677                    2010                       False  "
      ]
     },
     "execution_count": 14,
     "metadata": {},
     "output_type": "execute_result"
    }
   ],
   "source": [
    "import pandas as pd\n",
    "import numpy as np\n",
    "\n",
    "df = pd.read_csv(\"../data/Library_Usage.csv\", \n",
    "                 na_values=\"None\",\n",
    "                low_memory=False\n",
    "                )\n",
    "df = df[(\n",
    "    (df['Year Patron Registered'] == 2010) & \n",
    "    (df['Circulation Active Year'] == 2016)\n",
    ")]\n",
    "df.head()"
   ]
  },
  {
   "cell_type": "markdown",
   "metadata": {},
   "source": [
    "## CI for the mean of `Total Renewals`"
   ]
  },
  {
   "cell_type": "code",
   "execution_count": 15,
   "metadata": {},
   "outputs": [
    {
     "data": {
      "text/plain": [
       "22.15"
      ]
     },
     "execution_count": 15,
     "metadata": {},
     "output_type": "execute_result"
    }
   ],
   "source": [
    "df['Total Renewals'].mean()"
   ]
  },
  {
   "cell_type": "code",
   "execution_count": 16,
   "metadata": {},
   "outputs": [],
   "source": [
    "bt_means = []\n",
    "alpha = 0.10\n",
    "S= 10000\n",
    "for i in range(S):\n",
    "    stat = df['Total Renewals'].sample(len(df), replace=True).mean()\n",
    "    bt_means.append(stat)"
   ]
  },
  {
   "cell_type": "code",
   "execution_count": 17,
   "metadata": {},
   "outputs": [
    {
     "data": {
      "text/plain": [
       "0.0"
      ]
     },
     "execution_count": 17,
     "metadata": {},
     "output_type": "execute_result"
    }
   ],
   "source": [
    "pd.Series(bt_means).between(89, 92).mean()"
   ]
  },
  {
   "cell_type": "code",
   "execution_count": 18,
   "metadata": {},
   "outputs": [
    {
     "data": {
      "text/plain": [
       "0.05    11.099167\n",
       "0.95    35.433333\n",
       "dtype: float64"
      ]
     },
     "execution_count": 18,
     "metadata": {},
     "output_type": "execute_result"
    }
   ],
   "source": [
    "pd.Series(bt_means).quantile((alpha/2, 1-alpha/2))"
   ]
  },
  {
   "cell_type": "markdown",
   "metadata": {},
   "source": [
    "## Case-Study: CI for teen and adult library users"
   ]
  },
  {
   "cell_type": "code",
   "execution_count": 20,
   "metadata": {},
   "outputs": [
    {
     "data": {
      "text/plain": [
       "Teen     36\n",
       "Adult    24\n",
       "Name: Patron Type Definition, dtype: int64"
      ]
     },
     "execution_count": 20,
     "metadata": {},
     "output_type": "execute_result"
    }
   ],
   "source": [
    "df['Patron Type Definition'].value_counts()"
   ]
  },
  {
   "cell_type": "code",
   "execution_count": 22,
   "metadata": {},
   "outputs": [
    {
     "name": "stdout",
     "output_type": "stream",
     "text": [
      "(36, 24)\n",
      "177.30555555555554 201.08333333333334\n",
      "61.0 40.0\n",
      "88054.90396825397 112411.81884057971\n"
     ]
    }
   ],
   "source": [
    "teen = df['Total Checkouts'][df['Patron Type Definition'] == 'Teen']\n",
    "adult = df['Total Checkouts'][df['Patron Type Definition'] == 'Adult']\n",
    "print((len(teen), len(adult)))\n",
    "print(teen.mean(), adult.mean())\n",
    "print(teen.median(), adult.median())\n",
    "print(teen.var(), adult.var())"
   ]
  },
  {
   "cell_type": "markdown",
   "metadata": {},
   "source": [
    "### Bootstrap CI for the median difference"
   ]
  },
  {
   "cell_type": "code",
   "execution_count": 23,
   "metadata": {},
   "outputs": [
    {
     "data": {
      "text/plain": [
       "0.05   -55.0\n",
       "0.95    93.0\n",
       "dtype: float64"
      ]
     },
     "execution_count": 23,
     "metadata": {},
     "output_type": "execute_result"
    }
   ],
   "source": [
    "bt_diffs = []\n",
    "alpha = 0.1\n",
    "repl = 10000\n",
    "for i in range(repl):\n",
    "    x = teen.sample(len(teen), replace=True).median()\n",
    "    y = adult.sample(len(adult), replace=True).median()\n",
    "    bt_diffs.append(x - y)\n",
    "pd.Series(bt_diffs).quantile((alpha/2, 1-alpha/2))"
   ]
  },
  {
   "cell_type": "markdown",
   "metadata": {},
   "source": [
    "### Bootstrap CI for the mean difference"
   ]
  },
  {
   "cell_type": "code",
   "execution_count": 24,
   "metadata": {},
   "outputs": [
    {
     "data": {
      "text/plain": [
       "0.05   -165.555556\n",
       "0.95    109.014583\n",
       "dtype: float64"
      ]
     },
     "execution_count": 24,
     "metadata": {},
     "output_type": "execute_result"
    }
   ],
   "source": [
    "bt_diffs = []\n",
    "alpha = 0.1\n",
    "repl = 10000\n",
    "for i in range(repl):\n",
    "    x = teen.sample(len(teen), replace=True).mean()\n",
    "    y = adult.sample(len(adult), replace=True).mean()\n",
    "    bt_diffs.append(x- y)\n",
    "pd.Series(bt_diffs).quantile((alpha/2, 1-alpha/2))"
   ]
  },
  {
   "cell_type": "markdown",
   "metadata": {},
   "source": [
    "## Theoretically derived confidence intervals for the difference in means"
   ]
  },
  {
   "cell_type": "code",
   "execution_count": 25,
   "metadata": {},
   "outputs": [
    {
     "data": {
      "text/plain": [
       "(-165.57260877264594, 118.01705321709034)"
      ]
     },
     "execution_count": 25,
     "metadata": {},
     "output_type": "execute_result"
    }
   ],
   "source": [
    "import statsmodels.stats.api as sms\n",
    "\n",
    "cm = sms.CompareMeans(sms.DescrStatsW(teen), \n",
    "                      sms.DescrStatsW(adult))\n",
    "cm.tconfint_diff(usevar='unequal', alpha=0.10)"
   ]
  },
  {
   "cell_type": "code",
   "execution_count": null,
   "metadata": {},
   "outputs": [],
   "source": []
  }
 ],
 "metadata": {
  "kernelspec": {
   "display_name": "Python 3 (ipykernel)",
   "language": "python",
   "name": "python3"
  },
  "language_info": {
   "codemirror_mode": {
    "name": "ipython",
    "version": 3
   },
   "file_extension": ".py",
   "mimetype": "text/x-python",
   "name": "python",
   "nbconvert_exporter": "python",
   "pygments_lexer": "ipython3",
   "version": "3.9.13"
  }
 },
 "nbformat": 4,
 "nbformat_minor": 4
}

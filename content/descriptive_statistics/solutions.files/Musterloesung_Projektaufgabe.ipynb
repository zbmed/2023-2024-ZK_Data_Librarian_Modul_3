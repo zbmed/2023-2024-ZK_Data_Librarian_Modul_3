{
 "cells": [
  {
   "cell_type": "markdown",
   "metadata": {},
   "source": [
    "## Musterlösung zu Projektaufgabe Deskriptive Statistik und offene Fragen\n",
    "\n"
   ]
  },
  {
   "cell_type": "markdown",
   "metadata": {},
   "source": [
    "#### Grundlage: Datensatz der San Francisco Public Library, s.a. https://zbmed.github.io/2020-2021-ZK_Data_Librarian_Modul_3/organisation/dataset/"
   ]
  },
  {
   "cell_type": "markdown",
   "metadata": {},
   "source": [
    "##### Frage 1: Wie viele Senioren und Kinder sind Kunden der San Francisco Public Library?"
   ]
  },
  {
   "cell_type": "markdown",
   "metadata": {},
   "source": [
    "##### Frage 2: Wie viele Nutzer möchten per Mail informiert werden?"
   ]
  },
  {
   "cell_type": "markdown",
   "metadata": {},
   "source": [
    "##### Frage 3: Wie alt sind diese Nutzer durchschnittlich im Vergleich zu Nutzern, die per Post informiert werden möchten?"
   ]
  },
  {
   "cell_type": "markdown",
   "metadata": {},
   "source": [
    "##### Frage 4: Wie viele Ausleihen werden im Mittel pro Altersgruppe und pro Jahr getätigt? Ist die Streuung zwischen den Gruppen gleich?"
   ]
  },
  {
   "cell_type": "markdown",
   "metadata": {},
   "source": [
    "##### Frage 5: Welche Altersgruppe verlängert im Mittel wie oft?"
   ]
  },
  {
   "cell_type": "markdown",
   "metadata": {},
   "source": [
    "##### Frage 6: Wie ist die Verteilung der Altersgruppen im Mission District"
   ]
  },
  {
   "cell_type": "markdown",
   "metadata": {},
   "source": [
    "##### Frage 7: Erklärung von Normalisierung von Kreuztabellen (Kapitel 3 im Skript)"
   ]
  },
  {
   "cell_type": "code",
   "execution_count": 1,
   "metadata": {},
   "outputs": [],
   "source": [
    "import pandas as pd\n",
    "import matplotlib.pyplot as plt\n",
    "import seaborn as sns\n",
    "import numpy as np\n",
    "%matplotlib inline\n",
    "sns.set()\n",
    "# das was wir brauchen in abgekürzter Form"
   ]
  },
  {
   "cell_type": "code",
   "execution_count": 2,
   "metadata": {},
   "outputs": [],
   "source": [
    "df = pd.read_csv(\n",
    "    \"../data/Library_Usage.csv\",\n",
    "    na_values=\"none\"\n",
    ")\n",
    "# Einlesen des Datensatzes in das neu definierte DataFrame df mit Überschreibung \n",
    "#fehlender Werte"
   ]
  },
  {
   "cell_type": "code",
   "execution_count": 3,
   "metadata": {},
   "outputs": [
    {
     "data": {
      "text/html": [
       "<div>\n",
       "<style scoped>\n",
       "    .dataframe tbody tr th:only-of-type {\n",
       "        vertical-align: middle;\n",
       "    }\n",
       "\n",
       "    .dataframe tbody tr th {\n",
       "        vertical-align: top;\n",
       "    }\n",
       "\n",
       "    .dataframe thead th {\n",
       "        text-align: right;\n",
       "    }\n",
       "</style>\n",
       "<table border=\"1\" class=\"dataframe\">\n",
       "  <thead>\n",
       "    <tr style=\"text-align: right;\">\n",
       "      <th></th>\n",
       "      <th>Patron Type Code</th>\n",
       "      <th>Patron Type Definition</th>\n",
       "      <th>Total Checkouts</th>\n",
       "      <th>Total Renewals</th>\n",
       "      <th>Age Range</th>\n",
       "      <th>Home Library Code</th>\n",
       "      <th>Home Library Definition</th>\n",
       "      <th>Circulation Active Month</th>\n",
       "      <th>Circulation Active Year</th>\n",
       "      <th>Notice Preference Code</th>\n",
       "      <th>Notice Preference Definition</th>\n",
       "      <th>Provided Email Address</th>\n",
       "      <th>Year Patron Registered</th>\n",
       "      <th>Within San Francisco County</th>\n",
       "    </tr>\n",
       "  </thead>\n",
       "  <tbody>\n",
       "    <tr>\n",
       "      <th>0</th>\n",
       "      <td>1</td>\n",
       "      <td>Juvenile</td>\n",
       "      <td>0</td>\n",
       "      <td>0</td>\n",
       "      <td>0 to 9 years</td>\n",
       "      <td>r3</td>\n",
       "      <td>Richmond</td>\n",
       "      <td>NaN</td>\n",
       "      <td>NaN</td>\n",
       "      <td>z</td>\n",
       "      <td>Email</td>\n",
       "      <td>True</td>\n",
       "      <td>2022</td>\n",
       "      <td>True</td>\n",
       "    </tr>\n",
       "    <tr>\n",
       "      <th>1</th>\n",
       "      <td>2</td>\n",
       "      <td>Teen</td>\n",
       "      <td>0</td>\n",
       "      <td>0</td>\n",
       "      <td>10 to 19 years</td>\n",
       "      <td>x</td>\n",
       "      <td>Main</td>\n",
       "      <td>NaN</td>\n",
       "      <td>NaN</td>\n",
       "      <td>z</td>\n",
       "      <td>Email</td>\n",
       "      <td>True</td>\n",
       "      <td>2022</td>\n",
       "      <td>True</td>\n",
       "    </tr>\n",
       "    <tr>\n",
       "      <th>2</th>\n",
       "      <td>0</td>\n",
       "      <td>Adult</td>\n",
       "      <td>0</td>\n",
       "      <td>0</td>\n",
       "      <td>35 to 44 years</td>\n",
       "      <td>m4</td>\n",
       "      <td>Merced</td>\n",
       "      <td>NaN</td>\n",
       "      <td>NaN</td>\n",
       "      <td>z</td>\n",
       "      <td>Email</td>\n",
       "      <td>True</td>\n",
       "      <td>2019</td>\n",
       "      <td>True</td>\n",
       "    </tr>\n",
       "    <tr>\n",
       "      <th>3</th>\n",
       "      <td>2</td>\n",
       "      <td>Teen</td>\n",
       "      <td>0</td>\n",
       "      <td>0</td>\n",
       "      <td>10 to 19 years</td>\n",
       "      <td>x</td>\n",
       "      <td>Main</td>\n",
       "      <td>NaN</td>\n",
       "      <td>NaN</td>\n",
       "      <td>z</td>\n",
       "      <td>Email</td>\n",
       "      <td>True</td>\n",
       "      <td>2021</td>\n",
       "      <td>True</td>\n",
       "    </tr>\n",
       "    <tr>\n",
       "      <th>4</th>\n",
       "      <td>2</td>\n",
       "      <td>Teen</td>\n",
       "      <td>0</td>\n",
       "      <td>0</td>\n",
       "      <td>10 to 19 years</td>\n",
       "      <td>b2</td>\n",
       "      <td>Bayview</td>\n",
       "      <td>NaN</td>\n",
       "      <td>NaN</td>\n",
       "      <td>z</td>\n",
       "      <td>Email</td>\n",
       "      <td>True</td>\n",
       "      <td>2013</td>\n",
       "      <td>True</td>\n",
       "    </tr>\n",
       "  </tbody>\n",
       "</table>\n",
       "</div>"
      ],
      "text/plain": [
       "   Patron Type Code Patron Type Definition  Total Checkouts  Total Renewals  \\\n",
       "0                 1               Juvenile                0               0   \n",
       "1                 2                   Teen                0               0   \n",
       "2                 0                  Adult                0               0   \n",
       "3                 2                   Teen                0               0   \n",
       "4                 2                   Teen                0               0   \n",
       "\n",
       "        Age Range Home Library Code Home Library Definition  \\\n",
       "0    0 to 9 years                r3                Richmond   \n",
       "1  10 to 19 years                 x                    Main   \n",
       "2  35 to 44 years                m4                  Merced   \n",
       "3  10 to 19 years                 x                    Main   \n",
       "4  10 to 19 years                b2                 Bayview   \n",
       "\n",
       "  Circulation Active Month  Circulation Active Year Notice Preference Code  \\\n",
       "0                      NaN                      NaN                      z   \n",
       "1                      NaN                      NaN                      z   \n",
       "2                      NaN                      NaN                      z   \n",
       "3                      NaN                      NaN                      z   \n",
       "4                      NaN                      NaN                      z   \n",
       "\n",
       "  Notice Preference Definition  Provided Email Address  \\\n",
       "0                        Email                    True   \n",
       "1                        Email                    True   \n",
       "2                        Email                    True   \n",
       "3                        Email                    True   \n",
       "4                        Email                    True   \n",
       "\n",
       "   Year Patron Registered  Within San Francisco County  \n",
       "0                    2022                         True  \n",
       "1                    2022                         True  \n",
       "2                    2019                         True  \n",
       "3                    2021                         True  \n",
       "4                    2013                         True  "
      ]
     },
     "execution_count": 3,
     "metadata": {},
     "output_type": "execute_result"
    }
   ],
   "source": [
    "#df\n",
    "df.head()\n",
    "#Überblick über das DataFrame"
   ]
  },
  {
   "cell_type": "markdown",
   "metadata": {},
   "source": [
    "# Frage 1: Wie viele Senioren und Kinder sind Kunden der San Francisco Public Library?"
   ]
  },
  {
   "cell_type": "markdown",
   "metadata": {},
   "source": [
    "Um diese Frage zu beantworten, kommen die Spalten \"Patron Type Definition\" oder \"Age Range\" in Frage, also schauen wir uns die Einträge (Merkmalsausprägungen) an: "
   ]
  },
  {
   "cell_type": "code",
   "execution_count": 4,
   "metadata": {},
   "outputs": [
    {
     "data": {
      "text/plain": [
       "Adult                  271588\n",
       "Juvenile                58767\n",
       "Senior                  47366\n",
       "Teen                    40340\n",
       "Welcome                 10587\n",
       "Digital Access Card      3707\n",
       "Teacher Card             3161\n",
       "Staff                     808\n",
       "Retired Staff             209\n",
       "At User Adult             128\n",
       "Library By Mail           117\n",
       "Visitor                   111\n",
       "Bibliocommons             109\n",
       "At User Senior             76\n",
       "At User Welcome            14\n",
       "At User Teen               10\n",
       "At User Juvenile            9\n",
       "Business                    8\n",
       "Name: Patron Type Definition, dtype: int64"
      ]
     },
     "execution_count": 4,
     "metadata": {},
     "output_type": "execute_result"
    }
   ],
   "source": [
    "df['Patron Type Definition'].value_counts()"
   ]
  },
  {
   "cell_type": "markdown",
   "metadata": {},
   "source": [
    "Man sieht, dass es sich um nominale Werte handelt."
   ]
  },
  {
   "cell_type": "code",
   "execution_count": 5,
   "metadata": {},
   "outputs": [
    {
     "data": {
      "text/plain": [
       "25 to 34 years       92790\n",
       "35 to 44 years       80477\n",
       "10 to 19 years       67320\n",
       "45 to 54 years       48752\n",
       "0 to 9 years         34642\n",
       "65 to 74 years       31906\n",
       "20 to 24 years       24484\n",
       "55 to 59 years       19281\n",
       "75 years and over    18872\n",
       "60 to 64 years       17664\n",
       "Name: Age Range, dtype: int64"
      ]
     },
     "execution_count": 5,
     "metadata": {},
     "output_type": "execute_result"
    }
   ],
   "source": [
    "df['Age Range'].value_counts()"
   ]
  },
  {
   "cell_type": "markdown",
   "metadata": {},
   "source": [
    "Man sieht, dass es sich um ordinale Werte handelt."
   ]
  },
  {
   "cell_type": "markdown",
   "metadata": {},
   "source": [
    "In der Beschreibung des Datensatzes steht, dass sich die Spalte 'Age Range' nach dem Geburtsdatum richtet. D.h. es ist davon auszugehen, dass die Nutzer der Bibliothek zum Zeitpunkt der Bereitstellung des Datensatzes (2023) in die Kategorien von 'Age Range' einsortiert werden. In der Spalte 'Patron Type Definition' sind verschiedene Merkmalsausprägungen zu finden, die nicht unbedingt etwas mit dem Alter zu tun haben (z.B. VISITOR oder SPECIAL). Daher ist davon auszugehen, dass wir mit 'Age Range' am nähesten Fragestellungen zu Alter beantworten zu können. Richtige Angaben zu tatsächlichem Alter der Nutzer liegen bei diesem Datensatz nicht vor."
   ]
  },
  {
   "cell_type": "markdown",
   "metadata": {},
   "source": [
    "An dieser Stelle ist also zu definieren, was Senioren und Kinder sind. Eine Möglichkeit ist, Senioren als Age Range = 65 to 74 years und Age Range = 75 years and over zu definieren, man könnte aber auch Age Range = 60 to 64 years dazunehmen. Für das weitere Vorgehen, definieren wir Senioren als über 65-jährige und Kinder als bis 19-jährige. Um die Frage 1 zu beantworten, reicht es also, die entsprechenden Einträge zu summieren."
   ]
  },
  {
   "cell_type": "code",
   "execution_count": 6,
   "metadata": {},
   "outputs": [],
   "source": [
    "kinder=df.loc[df['Age Range'] == \"0 to 9 years\"] \n",
    "kinder=df.loc[\n",
    "    (df['Age Range'] == \"0 to 9 years\") | \n",
    "    (df['Age Range'] == \"10 to 19 years\")\n",
    "] \n",
    "#Hilfsvariable"
   ]
  },
  {
   "cell_type": "code",
   "execution_count": 7,
   "metadata": {},
   "outputs": [
    {
     "data": {
      "text/plain": [
       "101962"
      ]
     },
     "execution_count": 7,
     "metadata": {},
     "output_type": "execute_result"
    }
   ],
   "source": [
    "len(kinder) "
   ]
  },
  {
   "cell_type": "code",
   "execution_count": 8,
   "metadata": {},
   "outputs": [],
   "source": [
    "senioren=df.loc[\n",
    "    (df['Age Range'] == \"65 to 74 years\") | \n",
    "    (df['Age Range'] == \"75 years and over\")\n",
    "] \n",
    "#Hilfsvariable\n"
   ]
  },
  {
   "cell_type": "code",
   "execution_count": 9,
   "metadata": {},
   "outputs": [
    {
     "data": {
      "text/plain": [
       "50778"
      ]
     },
     "execution_count": 9,
     "metadata": {},
     "output_type": "execute_result"
    }
   ],
   "source": [
    "len(senioren)"
   ]
  },
  {
   "cell_type": "markdown",
   "metadata": {},
   "source": [
    "# Antwort auf Frage 1:"
   ]
  },
  {
   "cell_type": "code",
   "execution_count": 10,
   "metadata": {},
   "outputs": [
    {
     "name": "stdout",
     "output_type": "stream",
     "text": [
      "Es sind 101962 Kinder (bis 19 Jahre) und 50778 Senioren (ab 65 Jahren) registriert.\n"
     ]
    }
   ],
   "source": [
    "print('Es sind ' + str(len(kinder)) + ' Kinder (bis 19 Jahre) und ' + str(len(senioren)) + ' Senioren (ab 65 Jahren) registriert.' )\n"
   ]
  },
  {
   "cell_type": "markdown",
   "metadata": {},
   "source": [
    "-----"
   ]
  },
  {
   "cell_type": "markdown",
   "metadata": {},
   "source": [
    "# Frage 2: Wie viele Nutzer möchten per Mail informiert werden?"
   ]
  },
  {
   "cell_type": "code",
   "execution_count": 13,
   "metadata": {},
   "outputs": [
    {
     "data": {
      "text/plain": [
       "391614"
      ]
     },
     "execution_count": 13,
     "metadata": {},
     "output_type": "execute_result"
    }
   ],
   "source": [
    "len(df.loc[(df['Notice Preference Definition'] == \"Email\")])"
   ]
  },
  {
   "cell_type": "markdown",
   "metadata": {},
   "source": [
    "# Antwort auf Frage 2:"
   ]
  },
  {
   "cell_type": "code",
   "execution_count": 14,
   "metadata": {},
   "outputs": [
    {
     "name": "stdout",
     "output_type": "stream",
     "text": [
      "391614 Nutzer möchten per Mail informiert werden.\n"
     ]
    }
   ],
   "source": [
    "print(str(len(df.loc[(df['Notice Preference Definition'] == \"Email\")])) + ' Nutzer möchten per Mail informiert werden.')"
   ]
  },
  {
   "cell_type": "markdown",
   "metadata": {},
   "source": [
    "# Frage 3: Wie alt sind diese Nutzer durchschnittlich im Vergleich zu Nutzern, die per Post informiert werden möchten?"
   ]
  },
  {
   "cell_type": "markdown",
   "metadata": {},
   "source": [
    "Die relevante Spalte über die gewünschte Benachrichtigungsart schauen wir uns genauer an:"
   ]
  },
  {
   "cell_type": "code",
   "execution_count": 15,
   "metadata": {},
   "outputs": [
    {
     "data": {
      "text/plain": [
       "Email    391614\n",
       "Phone     35559\n",
       "Print      7242\n",
       "None       2700\n",
       "Name: Notice Preference Definition, dtype: int64"
      ]
     },
     "execution_count": 15,
     "metadata": {},
     "output_type": "execute_result"
    }
   ],
   "source": [
    "df['Notice Preference Definition'].value_counts()"
   ]
  },
  {
   "cell_type": "markdown",
   "metadata": {},
   "source": [
    "Es handelt sich um ein nominales Merkmal."
   ]
  },
  {
   "cell_type": "markdown",
   "metadata": {},
   "source": [
    "Auch hier stoßen wir auf eine Interpretationsfrage. Da der Datensatz kein Alter ausgibt, sondern nur Altersstufen (Age Range) bzw. Kategorien, die nicht immer etwas mit dem Alter zu tun haben sondern eher mit dem Nutzerstatus (Patron Type Definition), müssen wir überlegen, was ein Durchschnitt bedeuten kann. Age Range ist ein ordinales Merkmal, d.h. wir können keinen Erwartungswert berechnen, aber uns dennoch Häufigkeitstabellen anschauen."
   ]
  },
  {
   "cell_type": "markdown",
   "metadata": {},
   "source": [
    "Um diese beiden Merkmale (nominal und ordinal) zu verbinden, können wir uns einen Plot angucken, dafür definieren wir eine neue Variable indem wir nach den Merkmalen filtern, die uns interessieren:"
   ]
  },
  {
   "cell_type": "code",
   "execution_count": 17,
   "metadata": {},
   "outputs": [],
   "source": [
    "benachrichtigung=df.loc[\n",
    "    (df['Notice Preference Definition'] == \"Email\") | \n",
    "    (df['Notice Preference Definition'] == \"Print\")\n",
    "] #Hilfsvariable für den Plot, damit nur die Merkmale 'email' und 'print' angezeigt werden"
   ]
  },
  {
   "cell_type": "code",
   "execution_count": 18,
   "metadata": {},
   "outputs": [
    {
     "data": {
      "text/plain": [
       "<seaborn.axisgrid.FacetGrid at 0x7f83ba4099a0>"
      ]
     },
     "execution_count": 18,
     "metadata": {},
     "output_type": "execute_result"
    },
    {
     "data": {
      "image/png": "[encoded data removed]",
      "text/plain": [
       "<Figure size 1719.6x500 with 1 Axes>"
      ]
     },
     "metadata": {},
     "output_type": "display_data"
    }
   ],
   "source": [
    "sns.catplot(x='Age Range', kind='count', hue='Notice Preference Definition', data=benachrichtigung, aspect=3, order=[\"0 to 9 years\",\"10 to 19 years\",\"20 to 24 years\",\"25 to 34 years\",\"35 to 44 years\",\"45 to 54 years\",\"55 to 59 years\",\"60 to 64 years\",\"65 to 74 years\",\"75 years and over\"])\n",
    "#wenn data=df gewählt wird, würden wir auch die Werte für 'print' sehen"
   ]
  },
  {
   "cell_type": "markdown",
   "metadata": {},
   "source": [
    "Um besser die Zahlen zu verstehen, hilft uns eine Kreuztabelle:"
   ]
  },
  {
   "cell_type": "code",
   "execution_count": 19,
   "metadata": {},
   "outputs": [
    {
     "data": {
      "text/html": [
       "<div>\n",
       "<style scoped>\n",
       "    .dataframe tbody tr th:only-of-type {\n",
       "        vertical-align: middle;\n",
       "    }\n",
       "\n",
       "    .dataframe tbody tr th {\n",
       "        vertical-align: top;\n",
       "    }\n",
       "\n",
       "    .dataframe thead th {\n",
       "        text-align: right;\n",
       "    }\n",
       "</style>\n",
       "<table border=\"1\" class=\"dataframe\">\n",
       "  <thead>\n",
       "    <tr style=\"text-align: right;\">\n",
       "      <th>Age Range</th>\n",
       "      <th>0 to 9 years</th>\n",
       "      <th>10 to 19 years</th>\n",
       "      <th>20 to 24 years</th>\n",
       "      <th>25 to 34 years</th>\n",
       "      <th>35 to 44 years</th>\n",
       "      <th>45 to 54 years</th>\n",
       "      <th>55 to 59 years</th>\n",
       "      <th>60 to 64 years</th>\n",
       "      <th>65 to 74 years</th>\n",
       "      <th>75 years and over</th>\n",
       "      <th>All</th>\n",
       "    </tr>\n",
       "    <tr>\n",
       "      <th>Notice Preference Definition</th>\n",
       "      <th></th>\n",
       "      <th></th>\n",
       "      <th></th>\n",
       "      <th></th>\n",
       "      <th></th>\n",
       "      <th></th>\n",
       "      <th></th>\n",
       "      <th></th>\n",
       "      <th></th>\n",
       "      <th></th>\n",
       "      <th></th>\n",
       "    </tr>\n",
       "  </thead>\n",
       "  <tbody>\n",
       "    <tr>\n",
       "      <th>Email</th>\n",
       "      <td>29979</td>\n",
       "      <td>55109</td>\n",
       "      <td>21740</td>\n",
       "      <td>88098</td>\n",
       "      <td>76322</td>\n",
       "      <td>45360</td>\n",
       "      <td>17403</td>\n",
       "      <td>15438</td>\n",
       "      <td>26988</td>\n",
       "      <td>14340</td>\n",
       "      <td>390777</td>\n",
       "    </tr>\n",
       "    <tr>\n",
       "      <th>Print</th>\n",
       "      <td>1276</td>\n",
       "      <td>665</td>\n",
       "      <td>338</td>\n",
       "      <td>1210</td>\n",
       "      <td>1064</td>\n",
       "      <td>683</td>\n",
       "      <td>328</td>\n",
       "      <td>346</td>\n",
       "      <td>703</td>\n",
       "      <td>579</td>\n",
       "      <td>7192</td>\n",
       "    </tr>\n",
       "    <tr>\n",
       "      <th>All</th>\n",
       "      <td>31255</td>\n",
       "      <td>55774</td>\n",
       "      <td>22078</td>\n",
       "      <td>89308</td>\n",
       "      <td>77386</td>\n",
       "      <td>46043</td>\n",
       "      <td>17731</td>\n",
       "      <td>15784</td>\n",
       "      <td>27691</td>\n",
       "      <td>14919</td>\n",
       "      <td>397969</td>\n",
       "    </tr>\n",
       "  </tbody>\n",
       "</table>\n",
       "</div>"
      ],
      "text/plain": [
       "Age Range                     0 to 9 years  10 to 19 years  20 to 24 years  \\\n",
       "Notice Preference Definition                                                 \n",
       "Email                                29979           55109           21740   \n",
       "Print                                 1276             665             338   \n",
       "All                                  31255           55774           22078   \n",
       "\n",
       "Age Range                     25 to 34 years  35 to 44 years  45 to 54 years  \\\n",
       "Notice Preference Definition                                                   \n",
       "Email                                  88098           76322           45360   \n",
       "Print                                   1210            1064             683   \n",
       "All                                    89308           77386           46043   \n",
       "\n",
       "Age Range                     55 to 59 years  60 to 64 years  65 to 74 years  \\\n",
       "Notice Preference Definition                                                   \n",
       "Email                                  17403           15438           26988   \n",
       "Print                                    328             346             703   \n",
       "All                                    17731           15784           27691   \n",
       "\n",
       "Age Range                     75 years and over     All  \n",
       "Notice Preference Definition                             \n",
       "Email                                     14340  390777  \n",
       "Print                                       579    7192  \n",
       "All                                       14919  397969  "
      ]
     },
     "execution_count": 19,
     "metadata": {},
     "output_type": "execute_result"
    }
   ],
   "source": [
    "pd.crosstab(\n",
    "    benachrichtigung['Notice Preference Definition'],\n",
    "    benachrichtigung['Age Range'],\n",
    "    margins=True\n",
    ")\n",
    "# Beachte, dass wir hier eine Teilmenge des Datensatzes betrachten über die Variable \"benachrichitigung\". \n",
    "# D.h. wir blenden die Ereignisse aus, wo in der Spalte 'Notice Preference Definition' nicht \n",
    "# 'Email' oder 'Print' steht."
   ]
  },
  {
   "cell_type": "markdown",
   "metadata": {},
   "source": [
    "----\n",
    "###### WICHTIG:\n",
    "Beachte, dass die Summe der Nutzer, die per Mail informiert werden hier 390777 ergibt. Wir haben aber bei Frage 2 festgestellt, dass eigentlich 391614 Nutzer per Mail informiert werden möchten.\n",
    "Dies liegt daran, dass offensichtlich in einigen Einträgen (Zeilen des Datensatzes) zwar im Feld \"Notice Preference Definition\" der Wert \"Email\" steht, aber offensichtlich im Feld \"Age Range\" kein Eintrag steht. In der Kreuztabelle werden die beiden Merkmale 'Age Range' und 'Notice Preference Definition' betrachtet und somit nur die Einträge, wo entsprechednd beide Felder ausgefüllt sind.\n",
    "\n",
    "(Das ist übrigens unabhängig ob man die Kreuztabelle über die \"große\" Variable \"df\" oder \"benachrichtigung\" berechnet, probiere es gerne aus!)\n",
    "\n",
    "----"
   ]
  },
  {
   "cell_type": "code",
   "execution_count": 20,
   "metadata": {},
   "outputs": [
    {
     "data": {
      "text/html": [
       "<div>\n",
       "<style scoped>\n",
       "    .dataframe tbody tr th:only-of-type {\n",
       "        vertical-align: middle;\n",
       "    }\n",
       "\n",
       "    .dataframe tbody tr th {\n",
       "        vertical-align: top;\n",
       "    }\n",
       "\n",
       "    .dataframe thead th {\n",
       "        text-align: right;\n",
       "    }\n",
       "</style>\n",
       "<table border=\"1\" class=\"dataframe\">\n",
       "  <thead>\n",
       "    <tr style=\"text-align: right;\">\n",
       "      <th>Age Range</th>\n",
       "      <th>0 to 9 years</th>\n",
       "      <th>10 to 19 years</th>\n",
       "      <th>20 to 24 years</th>\n",
       "      <th>25 to 34 years</th>\n",
       "      <th>35 to 44 years</th>\n",
       "      <th>45 to 54 years</th>\n",
       "      <th>55 to 59 years</th>\n",
       "      <th>60 to 64 years</th>\n",
       "      <th>65 to 74 years</th>\n",
       "      <th>75 years and over</th>\n",
       "    </tr>\n",
       "    <tr>\n",
       "      <th>Notice Preference Definition</th>\n",
       "      <th></th>\n",
       "      <th></th>\n",
       "      <th></th>\n",
       "      <th></th>\n",
       "      <th></th>\n",
       "      <th></th>\n",
       "      <th></th>\n",
       "      <th></th>\n",
       "      <th></th>\n",
       "      <th></th>\n",
       "    </tr>\n",
       "  </thead>\n",
       "  <tbody>\n",
       "    <tr>\n",
       "      <th>Email</th>\n",
       "      <td>0.076716</td>\n",
       "      <td>0.141024</td>\n",
       "      <td>0.055633</td>\n",
       "      <td>0.225443</td>\n",
       "      <td>0.195308</td>\n",
       "      <td>0.116076</td>\n",
       "      <td>0.044534</td>\n",
       "      <td>0.039506</td>\n",
       "      <td>0.069062</td>\n",
       "      <td>0.036696</td>\n",
       "    </tr>\n",
       "    <tr>\n",
       "      <th>Print</th>\n",
       "      <td>0.177419</td>\n",
       "      <td>0.092464</td>\n",
       "      <td>0.046997</td>\n",
       "      <td>0.168242</td>\n",
       "      <td>0.147942</td>\n",
       "      <td>0.094967</td>\n",
       "      <td>0.045606</td>\n",
       "      <td>0.048109</td>\n",
       "      <td>0.097747</td>\n",
       "      <td>0.080506</td>\n",
       "    </tr>\n",
       "    <tr>\n",
       "      <th>All</th>\n",
       "      <td>0.078536</td>\n",
       "      <td>0.140147</td>\n",
       "      <td>0.055477</td>\n",
       "      <td>0.224409</td>\n",
       "      <td>0.194452</td>\n",
       "      <td>0.115695</td>\n",
       "      <td>0.044554</td>\n",
       "      <td>0.039661</td>\n",
       "      <td>0.069581</td>\n",
       "      <td>0.037488</td>\n",
       "    </tr>\n",
       "  </tbody>\n",
       "</table>\n",
       "</div>"
      ],
      "text/plain": [
       "Age Range                     0 to 9 years  10 to 19 years  20 to 24 years  \\\n",
       "Notice Preference Definition                                                 \n",
       "Email                             0.076716        0.141024        0.055633   \n",
       "Print                             0.177419        0.092464        0.046997   \n",
       "All                               0.078536        0.140147        0.055477   \n",
       "\n",
       "Age Range                     25 to 34 years  35 to 44 years  45 to 54 years  \\\n",
       "Notice Preference Definition                                                   \n",
       "Email                               0.225443        0.195308        0.116076   \n",
       "Print                               0.168242        0.147942        0.094967   \n",
       "All                                 0.224409        0.194452        0.115695   \n",
       "\n",
       "Age Range                     55 to 59 years  60 to 64 years  65 to 74 years  \\\n",
       "Notice Preference Definition                                                   \n",
       "Email                               0.044534        0.039506        0.069062   \n",
       "Print                               0.045606        0.048109        0.097747   \n",
       "All                                 0.044554        0.039661        0.069581   \n",
       "\n",
       "Age Range                     75 years and over  \n",
       "Notice Preference Definition                     \n",
       "Email                                  0.036696  \n",
       "Print                                  0.080506  \n",
       "All                                    0.037488  "
      ]
     },
     "execution_count": 20,
     "metadata": {},
     "output_type": "execute_result"
    }
   ],
   "source": [
    "# Nun möchten wir das prozentual betrachten:\n",
    "pd.crosstab(\n",
    "    benachrichtigung['Notice Preference Definition'],\n",
    "    benachrichtigung['Age Range'],\n",
    "    margins=True, normalize=0\n",
    ")"
   ]
  },
  {
   "cell_type": "markdown",
   "metadata": {},
   "source": [
    "# Antwort auf Frage 3:\n",
    "\n",
    " Die Frage können wir wie folgt beantworten. \n",
    " Von allen Nutzern, die per Mail informiert werden möchten, sind\n",
    " - ca. 8%  in der Alterklasse 0 bis 9 Jahre,\n",
    " - ca. 14% in der Altersklasse 10 bis 19 Jahre,\n",
    " \n",
    " ...\n",
    " \n",
    " - ca. 7%  in der Altersklasse 65 bis 74 Jahre,\n",
    " - ca. 4%  in der Altersklasse 75 Jahre und älter.\n",
    "\n",
    "Im Vergleich dazu, sind von allen Nutzern, die per Post informiert werden möchten\n",
    "- ca. 18%  in der Altersklasse 0 bis 9 Jahre,\n",
    "- ca. 9%  in der Altersklasse 10 bis 19 Jahre,\n",
    "\n",
    "...\n",
    "\n",
    "- ca. 10%  in der Altersklasse 65 bis 74 Jahre,\n",
    "- ca. 8%  in der Altersklasse 75 Jahre und älter.\n"
   ]
  },
  {
   "cell_type": "markdown",
   "metadata": {},
   "source": [
    "# Frage 4: Wie viele Ausleihen werden im Mittel pro Altersgruppe und pro Jahr getätigt? Ist die Streuung zwischen den Gruppen gleich?"
   ]
  },
  {
   "cell_type": "markdown",
   "metadata": {},
   "source": [
    "Für diese Fragestellung sind die Spalten 'Total Checkouts' und 'Age Range' relevant. Bei der ersten handelt es sich um ein metrisches Merkmal, die zweite ist ordinal.\n",
    "Wir definieren eine neue Spalte, die die durchschnittliche jährliche Ausleihe eines Nutzers ausgibt.\n"
   ]
  },
  {
   "cell_type": "code",
   "execution_count": 21,
   "metadata": {},
   "outputs": [],
   "source": [
    "df['Circulation Active Year'] = pd.to_numeric(df['Circulation Active Year'], errors='coerce')\n",
    "df['Membership Duration Years'] = (df['Circulation Active Year'] - df['Year Patron Registered'])+1 \n",
    "# hier werden der Einfachheit ganze Jahre angenommen\n",
    "df[\"Average Checkouts per Year\"] =(df['Total Checkouts']/df['Membership Duration Years'])\n"
   ]
  },
  {
   "cell_type": "code",
   "execution_count": 22,
   "metadata": {},
   "outputs": [
    {
     "data": {
      "text/html": [
       "<div>\n",
       "<style scoped>\n",
       "    .dataframe tbody tr th:only-of-type {\n",
       "        vertical-align: middle;\n",
       "    }\n",
       "\n",
       "    .dataframe tbody tr th {\n",
       "        vertical-align: top;\n",
       "    }\n",
       "\n",
       "    .dataframe thead th {\n",
       "        text-align: right;\n",
       "    }\n",
       "</style>\n",
       "<table border=\"1\" class=\"dataframe\">\n",
       "  <thead>\n",
       "    <tr style=\"text-align: right;\">\n",
       "      <th></th>\n",
       "      <th>Patron Type Code</th>\n",
       "      <th>Patron Type Definition</th>\n",
       "      <th>Total Checkouts</th>\n",
       "      <th>Total Renewals</th>\n",
       "      <th>Age Range</th>\n",
       "      <th>Home Library Code</th>\n",
       "      <th>Home Library Definition</th>\n",
       "      <th>Circulation Active Month</th>\n",
       "      <th>Circulation Active Year</th>\n",
       "      <th>Notice Preference Code</th>\n",
       "      <th>Notice Preference Definition</th>\n",
       "      <th>Provided Email Address</th>\n",
       "      <th>Year Patron Registered</th>\n",
       "      <th>Within San Francisco County</th>\n",
       "      <th>Membership Duration Years</th>\n",
       "      <th>Average Checkouts per Year</th>\n",
       "    </tr>\n",
       "  </thead>\n",
       "  <tbody>\n",
       "    <tr>\n",
       "      <th>0</th>\n",
       "      <td>1</td>\n",
       "      <td>Juvenile</td>\n",
       "      <td>0</td>\n",
       "      <td>0</td>\n",
       "      <td>0 to 9 years</td>\n",
       "      <td>r3</td>\n",
       "      <td>Richmond</td>\n",
       "      <td>NaN</td>\n",
       "      <td>NaN</td>\n",
       "      <td>z</td>\n",
       "      <td>Email</td>\n",
       "      <td>True</td>\n",
       "      <td>2022</td>\n",
       "      <td>True</td>\n",
       "      <td>NaN</td>\n",
       "      <td>NaN</td>\n",
       "    </tr>\n",
       "    <tr>\n",
       "      <th>1</th>\n",
       "      <td>2</td>\n",
       "      <td>Teen</td>\n",
       "      <td>0</td>\n",
       "      <td>0</td>\n",
       "      <td>10 to 19 years</td>\n",
       "      <td>x</td>\n",
       "      <td>Main</td>\n",
       "      <td>NaN</td>\n",
       "      <td>NaN</td>\n",
       "      <td>z</td>\n",
       "      <td>Email</td>\n",
       "      <td>True</td>\n",
       "      <td>2022</td>\n",
       "      <td>True</td>\n",
       "      <td>NaN</td>\n",
       "      <td>NaN</td>\n",
       "    </tr>\n",
       "    <tr>\n",
       "      <th>2</th>\n",
       "      <td>0</td>\n",
       "      <td>Adult</td>\n",
       "      <td>0</td>\n",
       "      <td>0</td>\n",
       "      <td>35 to 44 years</td>\n",
       "      <td>m4</td>\n",
       "      <td>Merced</td>\n",
       "      <td>NaN</td>\n",
       "      <td>NaN</td>\n",
       "      <td>z</td>\n",
       "      <td>Email</td>\n",
       "      <td>True</td>\n",
       "      <td>2019</td>\n",
       "      <td>True</td>\n",
       "      <td>NaN</td>\n",
       "      <td>NaN</td>\n",
       "    </tr>\n",
       "    <tr>\n",
       "      <th>3</th>\n",
       "      <td>2</td>\n",
       "      <td>Teen</td>\n",
       "      <td>0</td>\n",
       "      <td>0</td>\n",
       "      <td>10 to 19 years</td>\n",
       "      <td>x</td>\n",
       "      <td>Main</td>\n",
       "      <td>NaN</td>\n",
       "      <td>NaN</td>\n",
       "      <td>z</td>\n",
       "      <td>Email</td>\n",
       "      <td>True</td>\n",
       "      <td>2021</td>\n",
       "      <td>True</td>\n",
       "      <td>NaN</td>\n",
       "      <td>NaN</td>\n",
       "    </tr>\n",
       "    <tr>\n",
       "      <th>4</th>\n",
       "      <td>2</td>\n",
       "      <td>Teen</td>\n",
       "      <td>0</td>\n",
       "      <td>0</td>\n",
       "      <td>10 to 19 years</td>\n",
       "      <td>b2</td>\n",
       "      <td>Bayview</td>\n",
       "      <td>NaN</td>\n",
       "      <td>NaN</td>\n",
       "      <td>z</td>\n",
       "      <td>Email</td>\n",
       "      <td>True</td>\n",
       "      <td>2013</td>\n",
       "      <td>True</td>\n",
       "      <td>NaN</td>\n",
       "      <td>NaN</td>\n",
       "    </tr>\n",
       "  </tbody>\n",
       "</table>\n",
       "</div>"
      ],
      "text/plain": [
       "   Patron Type Code Patron Type Definition  Total Checkouts  Total Renewals  \\\n",
       "0                 1               Juvenile                0               0   \n",
       "1                 2                   Teen                0               0   \n",
       "2                 0                  Adult                0               0   \n",
       "3                 2                   Teen                0               0   \n",
       "4                 2                   Teen                0               0   \n",
       "\n",
       "        Age Range Home Library Code Home Library Definition  \\\n",
       "0    0 to 9 years                r3                Richmond   \n",
       "1  10 to 19 years                 x                    Main   \n",
       "2  35 to 44 years                m4                  Merced   \n",
       "3  10 to 19 years                 x                    Main   \n",
       "4  10 to 19 years                b2                 Bayview   \n",
       "\n",
       "  Circulation Active Month  Circulation Active Year Notice Preference Code  \\\n",
       "0                      NaN                      NaN                      z   \n",
       "1                      NaN                      NaN                      z   \n",
       "2                      NaN                      NaN                      z   \n",
       "3                      NaN                      NaN                      z   \n",
       "4                      NaN                      NaN                      z   \n",
       "\n",
       "  Notice Preference Definition  Provided Email Address  \\\n",
       "0                        Email                    True   \n",
       "1                        Email                    True   \n",
       "2                        Email                    True   \n",
       "3                        Email                    True   \n",
       "4                        Email                    True   \n",
       "\n",
       "   Year Patron Registered  Within San Francisco County  \\\n",
       "0                    2022                         True   \n",
       "1                    2022                         True   \n",
       "2                    2019                         True   \n",
       "3                    2021                         True   \n",
       "4                    2013                         True   \n",
       "\n",
       "   Membership Duration Years  Average Checkouts per Year  \n",
       "0                        NaN                         NaN  \n",
       "1                        NaN                         NaN  \n",
       "2                        NaN                         NaN  \n",
       "3                        NaN                         NaN  \n",
       "4                        NaN                         NaN  "
      ]
     },
     "execution_count": 22,
     "metadata": {},
     "output_type": "execute_result"
    }
   ],
   "source": [
    "df.head()"
   ]
  },
  {
   "cell_type": "code",
   "execution_count": 23,
   "metadata": {},
   "outputs": [
    {
     "data": {
      "image/png": "[encoded data removed]",
      "text/plain": [
       "<Figure size 1600x600 with 1 Axes>"
      ]
     },
     "metadata": {},
     "output_type": "display_data"
    }
   ],
   "source": [
    "import matplotlib.pyplot as plt\n",
    "\n",
    "%matplotlib inline\n",
    "sns.set()\n",
    "plt.figure(figsize=(16, 6))\n",
    "my_order =['0 to 9 years', '10 to 19 years', '20 to 24 years', '25 to 34 years', '35 to 44 years', '45 to 54 years', '55 to 59 years', '60 to 64 years', '65 to 74 years', '75 years and over']\n",
    "\n",
    "plt = sns.boxplot(y='Average Checkouts per Year', x='Age Range', data=df[df['Average Checkouts per Year']<df['Average Checkouts per Year'].quantile(0.95)], fliersize=0.5, whis=1.5, order =my_order)"
   ]
  },
  {
   "cell_type": "markdown",
   "metadata": {},
   "source": [
    "# Antwort auf Frage 4: \n",
    "\n",
    "In der Grafik ist die Antwort ablesbar. Man sieht  ganz schön, dass es kaum Zusammenhang zwischen der durschnittlichen Ausleihe pro Jahr und den Altersgruppen gibt. Lediglich die Altersgruppe zwischen 25 und 34 und 35 und 44 leihen sichtbar weniger Bücher aus als die anderen Altersgruppen."
   ]
  },
  {
   "cell_type": "markdown",
   "metadata": {},
   "source": [
    "# Frage 5: Welche Altersgruppe verlängert im Mittel wie oft?"
   ]
  },
  {
   "cell_type": "markdown",
   "metadata": {},
   "source": [
    "# Antwort auf Frage 5"
   ]
  },
  {
   "cell_type": "markdown",
   "metadata": {},
   "source": [
    "Wie in Frage 4 benötigen wir eine Hilfsvariable."
   ]
  },
  {
   "cell_type": "code",
   "execution_count": 24,
   "metadata": {},
   "outputs": [],
   "source": [
    "df['Circulation Active Year'] = pd.to_numeric(df['Circulation Active Year'], errors='coerce')\n",
    "df['Membership Duration Years'] = (df['Circulation Active Year'] - df['Year Patron Registered'])+1 \n",
    "# hier werden der Einfachheit ganze Jahre angenommen\n",
    "df[\"Average Renewals per Year\"] =(df['Total Checkouts']/df['Membership Duration Years'])"
   ]
  },
  {
   "cell_type": "code",
   "execution_count": 25,
   "metadata": {},
   "outputs": [
    {
     "name": "stdout",
     "output_type": "stream",
     "text": [
      "Im Mittel werden in den Altersgruppen wie folgt Verlängerungen getätigt:\n",
      "0 bis 9-jährige: 20.315836426333597\n",
      "10 bis 19-jährige: 22.88212931062654\n",
      "...\n",
      "65 bis 74-jährige: 22.535718393031114\n",
      "ab 75-jährige: 25.460337634193355\n"
     ]
    }
   ],
   "source": [
    "Age_Range_0_9 = df.loc[df['Age Range'] == '0 to 9 years']\n",
    "Age_Range_10_19 = df.loc[df['Age Range'] == '10 to 19 years']\n",
    "Age_Range_20_24 = df.loc[df['Age Range'] == '20 to 24 years']\n",
    "Age_Range_25_34 = df.loc[df['Age Range'] == '25 to 34 years']\n",
    "Age_Range_35_44 = df.loc[df['Age Range'] == '35 to 44 years']\n",
    "Age_Range_45_54 = df.loc[df['Age Range'] == '45 to 54 years']\n",
    "Age_Range_55_59 = df.loc[df['Age Range'] == '55 to 59 years']\n",
    "Age_Range_60_64 = df.loc[df['Age Range'] == '60 to 64 years']\n",
    "Age_Range_65_74 = df.loc[df['Age Range'] == '65 to 74 years']\n",
    "Age_Range_75 = df.loc[df['Age Range'] == '75 years and over']\n",
    "\n",
    "# Hilfsvariablen\n",
    "\n",
    "print('Im Mittel werden in den Altersgruppen wie folgt Verlängerungen getätigt:' )\n",
    "print('0 bis 9-jährige: '  + str(Age_Range_0_9['Average Renewals per Year'].mean()))\n",
    "print('10 bis 19-jährige: '  + str(Age_Range_10_19['Average Renewals per Year'].mean()))\n",
    "\n",
    "print('...')\n",
    "\n",
    "\n",
    "print('65 bis 74-jährige: '  + str(Age_Range_65_74['Average Renewals per Year'].mean()))\n",
    "print('ab 75-jährige: '  + str(Age_Range_75['Average Renewals per Year'].mean()))\n",
    "\n",
    "\n"
   ]
  },
  {
   "cell_type": "markdown",
   "metadata": {},
   "source": [
    "----"
   ]
  },
  {
   "cell_type": "markdown",
   "metadata": {},
   "source": [
    "# Frage 6: Wie ist die Verteilung der Altersgruppen im Mission District"
   ]
  },
  {
   "cell_type": "markdown",
   "metadata": {},
   "source": [
    "Für diese Frage sind die Variablen 'Home Library Definition' und 'Age Range' relevant. Die erstere ist nominal, die zweite ordinal. D.h. auch hier ist die Berechnung von Erwartungswert und Varianz nicht möglich. Für einen ersten graphischen Überblick können wir aber einfach zählen, wie viele Nutzer welcher Altersgruppe im Mission District sind."
   ]
  },
  {
   "cell_type": "code",
   "execution_count": 26,
   "metadata": {},
   "outputs": [],
   "source": [
    "mission_district=df.loc[(df['Home Library Definition'] == \"Mission\")] # Hilfsvariable"
   ]
  },
  {
   "cell_type": "code",
   "execution_count": 27,
   "metadata": {},
   "outputs": [
    {
     "data": {
      "text/plain": [
       "<seaborn.axisgrid.FacetGrid at 0x7f83c97cf8b0>"
      ]
     },
     "execution_count": 27,
     "metadata": {},
     "output_type": "execute_result"
    },
    {
     "data": {
      "image/png": "[encoded data removed]",
      "text/plain": [
       "<Figure size 1500x500 with 1 Axes>"
      ]
     },
     "metadata": {},
     "output_type": "display_data"
    }
   ],
   "source": [
    "my_order =['0 to 9 years', '10 to 19 years', '20 to 24 years', '25 to 34 years', '35 to 44 years', '45 to 54 years', '55 to 59 years', '60 to 64 years', '65 to 74 years', '75 years and over']\n",
    "sns.catplot(x='Age Range', kind=\"count\", data=mission_district, order=my_order, aspect=3)"
   ]
  },
  {
   "cell_type": "markdown",
   "metadata": {},
   "source": [
    "Die obere Grafik beantwortet die Frage schon ganz gut, dennoch können wir uns auch die genauen Werte über eine Kreuztabelle ausgeben lassen:"
   ]
  },
  {
   "cell_type": "code",
   "execution_count": 28,
   "metadata": {},
   "outputs": [
    {
     "data": {
      "text/html": [
       "<div>\n",
       "<style scoped>\n",
       "    .dataframe tbody tr th:only-of-type {\n",
       "        vertical-align: middle;\n",
       "    }\n",
       "\n",
       "    .dataframe tbody tr th {\n",
       "        vertical-align: top;\n",
       "    }\n",
       "\n",
       "    .dataframe thead th {\n",
       "        text-align: right;\n",
       "    }\n",
       "</style>\n",
       "<table border=\"1\" class=\"dataframe\">\n",
       "  <thead>\n",
       "    <tr style=\"text-align: right;\">\n",
       "      <th>Age Range</th>\n",
       "      <th>0 to 9 years</th>\n",
       "      <th>10 to 19 years</th>\n",
       "      <th>20 to 24 years</th>\n",
       "      <th>25 to 34 years</th>\n",
       "      <th>35 to 44 years</th>\n",
       "      <th>45 to 54 years</th>\n",
       "      <th>55 to 59 years</th>\n",
       "      <th>60 to 64 years</th>\n",
       "      <th>65 to 74 years</th>\n",
       "      <th>75 years and over</th>\n",
       "    </tr>\n",
       "    <tr>\n",
       "      <th>Home Library Definition</th>\n",
       "      <th></th>\n",
       "      <th></th>\n",
       "      <th></th>\n",
       "      <th></th>\n",
       "      <th></th>\n",
       "      <th></th>\n",
       "      <th></th>\n",
       "      <th></th>\n",
       "      <th></th>\n",
       "      <th></th>\n",
       "    </tr>\n",
       "  </thead>\n",
       "  <tbody>\n",
       "    <tr>\n",
       "      <th>Mission</th>\n",
       "      <td>0.056841</td>\n",
       "      <td>0.171199</td>\n",
       "      <td>0.050172</td>\n",
       "      <td>0.227154</td>\n",
       "      <td>0.225018</td>\n",
       "      <td>0.122017</td>\n",
       "      <td>0.041523</td>\n",
       "      <td>0.034855</td>\n",
       "      <td>0.048348</td>\n",
       "      <td>0.022872</td>\n",
       "    </tr>\n",
       "    <tr>\n",
       "      <th>All</th>\n",
       "      <td>0.056841</td>\n",
       "      <td>0.171199</td>\n",
       "      <td>0.050172</td>\n",
       "      <td>0.227154</td>\n",
       "      <td>0.225018</td>\n",
       "      <td>0.122017</td>\n",
       "      <td>0.041523</td>\n",
       "      <td>0.034855</td>\n",
       "      <td>0.048348</td>\n",
       "      <td>0.022872</td>\n",
       "    </tr>\n",
       "  </tbody>\n",
       "</table>\n",
       "</div>"
      ],
      "text/plain": [
       "Age Range                0 to 9 years  10 to 19 years  20 to 24 years  \\\n",
       "Home Library Definition                                                 \n",
       "Mission                      0.056841        0.171199        0.050172   \n",
       "All                          0.056841        0.171199        0.050172   \n",
       "\n",
       "Age Range                25 to 34 years  35 to 44 years  45 to 54 years  \\\n",
       "Home Library Definition                                                   \n",
       "Mission                        0.227154        0.225018        0.122017   \n",
       "All                            0.227154        0.225018        0.122017   \n",
       "\n",
       "Age Range                55 to 59 years  60 to 64 years  65 to 74 years  \\\n",
       "Home Library Definition                                                   \n",
       "Mission                        0.041523        0.034855        0.048348   \n",
       "All                            0.041523        0.034855        0.048348   \n",
       "\n",
       "Age Range                75 years and over  \n",
       "Home Library Definition                     \n",
       "Mission                           0.022872  \n",
       "All                               0.022872  "
      ]
     },
     "execution_count": 28,
     "metadata": {},
     "output_type": "execute_result"
    }
   ],
   "source": [
    "pd.crosstab(\n",
    "    mission_district['Home Library Definition'],\n",
    "    mission_district['Age Range'],\n",
    "    margins=True, normalize=0\n",
    ")"
   ]
  },
  {
   "cell_type": "markdown",
   "metadata": {},
   "source": [
    "###### Antwort auf Frage 6\n",
    "Die Verteilung der Altersgruppen im Mission District ist wie folgt:\n",
    "- ca. 6% der Nutzer sind zwischen 0 und 9 Jahren,\n",
    "- ca. 17% der Nutzer sind zwischen 10 und 19 Jahren,\n",
    " \n",
    "...\n",
    "\n",
    "- ca. 5% der Nutzer sind zwischen 65 und 74 Jahren,\n",
    "- ca. 2% der Nutzer sind 75 Jahre und älter.\n",
    "\n",
    "\n",
    "----"
   ]
  },
  {
   "cell_type": "markdown",
   "metadata": {},
   "source": [
    "# Frage 7: Erklärung von Normalisierung von Kreuztabellen (Kapitel 3 im Skript)"
   ]
  },
  {
   "cell_type": "markdown",
   "metadata": {},
   "source": [
    "Wir nutzen das Beispiel von oben (Alterskategorien und Benachrichtigungsart aus Frage 3).\n",
    "Zuerst einmal eine nicht normalisierte Kreuztabelle:"
   ]
  },
  {
   "cell_type": "code",
   "execution_count": 29,
   "metadata": {},
   "outputs": [
    {
     "data": {
      "text/html": [
       "<div>\n",
       "<style scoped>\n",
       "    .dataframe tbody tr th:only-of-type {\n",
       "        vertical-align: middle;\n",
       "    }\n",
       "\n",
       "    .dataframe tbody tr th {\n",
       "        vertical-align: top;\n",
       "    }\n",
       "\n",
       "    .dataframe thead th {\n",
       "        text-align: right;\n",
       "    }\n",
       "</style>\n",
       "<table border=\"1\" class=\"dataframe\">\n",
       "  <thead>\n",
       "    <tr style=\"text-align: right;\">\n",
       "      <th>Age Range</th>\n",
       "      <th>0 to 9 years</th>\n",
       "      <th>10 to 19 years</th>\n",
       "      <th>20 to 24 years</th>\n",
       "      <th>25 to 34 years</th>\n",
       "      <th>35 to 44 years</th>\n",
       "      <th>45 to 54 years</th>\n",
       "      <th>55 to 59 years</th>\n",
       "      <th>60 to 64 years</th>\n",
       "      <th>65 to 74 years</th>\n",
       "      <th>75 years and over</th>\n",
       "      <th>All</th>\n",
       "    </tr>\n",
       "    <tr>\n",
       "      <th>Notice Preference Definition</th>\n",
       "      <th></th>\n",
       "      <th></th>\n",
       "      <th></th>\n",
       "      <th></th>\n",
       "      <th></th>\n",
       "      <th></th>\n",
       "      <th></th>\n",
       "      <th></th>\n",
       "      <th></th>\n",
       "      <th></th>\n",
       "      <th></th>\n",
       "    </tr>\n",
       "  </thead>\n",
       "  <tbody>\n",
       "    <tr>\n",
       "      <th>Email</th>\n",
       "      <td>29979</td>\n",
       "      <td>55109</td>\n",
       "      <td>21740</td>\n",
       "      <td>88098</td>\n",
       "      <td>76322</td>\n",
       "      <td>45360</td>\n",
       "      <td>17403</td>\n",
       "      <td>15438</td>\n",
       "      <td>26988</td>\n",
       "      <td>14340</td>\n",
       "      <td>390777</td>\n",
       "    </tr>\n",
       "    <tr>\n",
       "      <th>Print</th>\n",
       "      <td>1276</td>\n",
       "      <td>665</td>\n",
       "      <td>338</td>\n",
       "      <td>1210</td>\n",
       "      <td>1064</td>\n",
       "      <td>683</td>\n",
       "      <td>328</td>\n",
       "      <td>346</td>\n",
       "      <td>703</td>\n",
       "      <td>579</td>\n",
       "      <td>7192</td>\n",
       "    </tr>\n",
       "    <tr>\n",
       "      <th>All</th>\n",
       "      <td>31255</td>\n",
       "      <td>55774</td>\n",
       "      <td>22078</td>\n",
       "      <td>89308</td>\n",
       "      <td>77386</td>\n",
       "      <td>46043</td>\n",
       "      <td>17731</td>\n",
       "      <td>15784</td>\n",
       "      <td>27691</td>\n",
       "      <td>14919</td>\n",
       "      <td>397969</td>\n",
       "    </tr>\n",
       "  </tbody>\n",
       "</table>\n",
       "</div>"
      ],
      "text/plain": [
       "Age Range                     0 to 9 years  10 to 19 years  20 to 24 years  \\\n",
       "Notice Preference Definition                                                 \n",
       "Email                                29979           55109           21740   \n",
       "Print                                 1276             665             338   \n",
       "All                                  31255           55774           22078   \n",
       "\n",
       "Age Range                     25 to 34 years  35 to 44 years  45 to 54 years  \\\n",
       "Notice Preference Definition                                                   \n",
       "Email                                  88098           76322           45360   \n",
       "Print                                   1210            1064             683   \n",
       "All                                    89308           77386           46043   \n",
       "\n",
       "Age Range                     55 to 59 years  60 to 64 years  65 to 74 years  \\\n",
       "Notice Preference Definition                                                   \n",
       "Email                                  17403           15438           26988   \n",
       "Print                                    328             346             703   \n",
       "All                                    17731           15784           27691   \n",
       "\n",
       "Age Range                     75 years and over     All  \n",
       "Notice Preference Definition                             \n",
       "Email                                     14340  390777  \n",
       "Print                                       579    7192  \n",
       "All                                       14919  397969  "
      ]
     },
     "execution_count": 29,
     "metadata": {},
     "output_type": "execute_result"
    }
   ],
   "source": [
    "# Nun möchten wir das prozentual betrachten:\n",
    "pd.crosstab(\n",
    "    benachrichtigung['Notice Preference Definition'],\n",
    "    benachrichtigung['Age Range'],\n",
    "    margins=True\n",
    ")\n",
    "# die Reihenfolge der betrachteten Spalten 'Notice Preference Definition' und 'Age Range' spielt keine Rolle, \n",
    "# probiere es ruhig aus\""
   ]
  },
  {
   "cell_type": "code",
   "execution_count": 30,
   "metadata": {},
   "outputs": [
    {
     "data": {
      "text/html": [
       "<div>\n",
       "<style scoped>\n",
       "    .dataframe tbody tr th:only-of-type {\n",
       "        vertical-align: middle;\n",
       "    }\n",
       "\n",
       "    .dataframe tbody tr th {\n",
       "        vertical-align: top;\n",
       "    }\n",
       "\n",
       "    .dataframe thead th {\n",
       "        text-align: right;\n",
       "    }\n",
       "</style>\n",
       "<table border=\"1\" class=\"dataframe\">\n",
       "  <thead>\n",
       "    <tr style=\"text-align: right;\">\n",
       "      <th>Age Range</th>\n",
       "      <th>0 to 9 years</th>\n",
       "      <th>10 to 19 years</th>\n",
       "      <th>20 to 24 years</th>\n",
       "      <th>25 to 34 years</th>\n",
       "      <th>35 to 44 years</th>\n",
       "      <th>45 to 54 years</th>\n",
       "      <th>55 to 59 years</th>\n",
       "      <th>60 to 64 years</th>\n",
       "      <th>65 to 74 years</th>\n",
       "      <th>75 years and over</th>\n",
       "    </tr>\n",
       "    <tr>\n",
       "      <th>Notice Preference Definition</th>\n",
       "      <th></th>\n",
       "      <th></th>\n",
       "      <th></th>\n",
       "      <th></th>\n",
       "      <th></th>\n",
       "      <th></th>\n",
       "      <th></th>\n",
       "      <th></th>\n",
       "      <th></th>\n",
       "      <th></th>\n",
       "    </tr>\n",
       "  </thead>\n",
       "  <tbody>\n",
       "    <tr>\n",
       "      <th>Email</th>\n",
       "      <td>0.076716</td>\n",
       "      <td>0.141024</td>\n",
       "      <td>0.055633</td>\n",
       "      <td>0.225443</td>\n",
       "      <td>0.195308</td>\n",
       "      <td>0.116076</td>\n",
       "      <td>0.044534</td>\n",
       "      <td>0.039506</td>\n",
       "      <td>0.069062</td>\n",
       "      <td>0.036696</td>\n",
       "    </tr>\n",
       "    <tr>\n",
       "      <th>Print</th>\n",
       "      <td>0.177419</td>\n",
       "      <td>0.092464</td>\n",
       "      <td>0.046997</td>\n",
       "      <td>0.168242</td>\n",
       "      <td>0.147942</td>\n",
       "      <td>0.094967</td>\n",
       "      <td>0.045606</td>\n",
       "      <td>0.048109</td>\n",
       "      <td>0.097747</td>\n",
       "      <td>0.080506</td>\n",
       "    </tr>\n",
       "    <tr>\n",
       "      <th>All</th>\n",
       "      <td>0.078536</td>\n",
       "      <td>0.140147</td>\n",
       "      <td>0.055477</td>\n",
       "      <td>0.224409</td>\n",
       "      <td>0.194452</td>\n",
       "      <td>0.115695</td>\n",
       "      <td>0.044554</td>\n",
       "      <td>0.039661</td>\n",
       "      <td>0.069581</td>\n",
       "      <td>0.037488</td>\n",
       "    </tr>\n",
       "  </tbody>\n",
       "</table>\n",
       "</div>"
      ],
      "text/plain": [
       "Age Range                     0 to 9 years  10 to 19 years  20 to 24 years  \\\n",
       "Notice Preference Definition                                                 \n",
       "Email                             0.076716        0.141024        0.055633   \n",
       "Print                             0.177419        0.092464        0.046997   \n",
       "All                               0.078536        0.140147        0.055477   \n",
       "\n",
       "Age Range                     25 to 34 years  35 to 44 years  45 to 54 years  \\\n",
       "Notice Preference Definition                                                   \n",
       "Email                               0.225443        0.195308        0.116076   \n",
       "Print                               0.168242        0.147942        0.094967   \n",
       "All                                 0.224409        0.194452        0.115695   \n",
       "\n",
       "Age Range                     55 to 59 years  60 to 64 years  65 to 74 years  \\\n",
       "Notice Preference Definition                                                   \n",
       "Email                               0.044534        0.039506        0.069062   \n",
       "Print                               0.045606        0.048109        0.097747   \n",
       "All                                 0.044554        0.039661        0.069581   \n",
       "\n",
       "Age Range                     75 years and over  \n",
       "Notice Preference Definition                     \n",
       "Email                                  0.036696  \n",
       "Print                                  0.080506  \n",
       "All                                    0.037488  "
      ]
     },
     "execution_count": 30,
     "metadata": {},
     "output_type": "execute_result"
    }
   ],
   "source": [
    "# Nun normalisieren wir nach Zeilen (normalize=0)\n",
    "pd.crosstab(\n",
    "    benachrichtigung['Notice Preference Definition'],\n",
    "    benachrichtigung['Age Range'],\n",
    "    margins=True, normalize=0\n",
    ")"
   ]
  },
  {
   "cell_type": "markdown",
   "metadata": {},
   "source": [
    "Hier sehen wir, dass jede Zeile in der Summe 1 ergibt. D.h. wir können die Tabelle prozentual nach Zeilen interpretieren.\n",
    "Also z.B. erste Zeile: Von allen Nutzern, die per Mail informiert werden möchten, befinden sich ca. 13% (0.128020 von 1) in der Altersgruppe 45 bis 54 Jahre.\n"
   ]
  },
  {
   "cell_type": "code",
   "execution_count": 31,
   "metadata": {},
   "outputs": [
    {
     "data": {
      "text/html": [
       "<div>\n",
       "<style scoped>\n",
       "    .dataframe tbody tr th:only-of-type {\n",
       "        vertical-align: middle;\n",
       "    }\n",
       "\n",
       "    .dataframe tbody tr th {\n",
       "        vertical-align: top;\n",
       "    }\n",
       "\n",
       "    .dataframe thead th {\n",
       "        text-align: right;\n",
       "    }\n",
       "</style>\n",
       "<table border=\"1\" class=\"dataframe\">\n",
       "  <thead>\n",
       "    <tr style=\"text-align: right;\">\n",
       "      <th>Age Range</th>\n",
       "      <th>0 to 9 years</th>\n",
       "      <th>10 to 19 years</th>\n",
       "      <th>20 to 24 years</th>\n",
       "      <th>25 to 34 years</th>\n",
       "      <th>35 to 44 years</th>\n",
       "      <th>45 to 54 years</th>\n",
       "      <th>55 to 59 years</th>\n",
       "      <th>60 to 64 years</th>\n",
       "      <th>65 to 74 years</th>\n",
       "      <th>75 years and over</th>\n",
       "      <th>All</th>\n",
       "    </tr>\n",
       "    <tr>\n",
       "      <th>Notice Preference Definition</th>\n",
       "      <th></th>\n",
       "      <th></th>\n",
       "      <th></th>\n",
       "      <th></th>\n",
       "      <th></th>\n",
       "      <th></th>\n",
       "      <th></th>\n",
       "      <th></th>\n",
       "      <th></th>\n",
       "      <th></th>\n",
       "      <th></th>\n",
       "    </tr>\n",
       "  </thead>\n",
       "  <tbody>\n",
       "    <tr>\n",
       "      <th>Email</th>\n",
       "      <td>0.959175</td>\n",
       "      <td>0.988077</td>\n",
       "      <td>0.984691</td>\n",
       "      <td>0.986451</td>\n",
       "      <td>0.986251</td>\n",
       "      <td>0.985166</td>\n",
       "      <td>0.981501</td>\n",
       "      <td>0.978079</td>\n",
       "      <td>0.974613</td>\n",
       "      <td>0.96119</td>\n",
       "      <td>0.981928</td>\n",
       "    </tr>\n",
       "    <tr>\n",
       "      <th>Print</th>\n",
       "      <td>0.040825</td>\n",
       "      <td>0.011923</td>\n",
       "      <td>0.015309</td>\n",
       "      <td>0.013549</td>\n",
       "      <td>0.013749</td>\n",
       "      <td>0.014834</td>\n",
       "      <td>0.018499</td>\n",
       "      <td>0.021921</td>\n",
       "      <td>0.025387</td>\n",
       "      <td>0.03881</td>\n",
       "      <td>0.018072</td>\n",
       "    </tr>\n",
       "  </tbody>\n",
       "</table>\n",
       "</div>"
      ],
      "text/plain": [
       "Age Range                     0 to 9 years  10 to 19 years  20 to 24 years  \\\n",
       "Notice Preference Definition                                                 \n",
       "Email                             0.959175        0.988077        0.984691   \n",
       "Print                             0.040825        0.011923        0.015309   \n",
       "\n",
       "Age Range                     25 to 34 years  35 to 44 years  45 to 54 years  \\\n",
       "Notice Preference Definition                                                   \n",
       "Email                               0.986451        0.986251        0.985166   \n",
       "Print                               0.013549        0.013749        0.014834   \n",
       "\n",
       "Age Range                     55 to 59 years  60 to 64 years  65 to 74 years  \\\n",
       "Notice Preference Definition                                                   \n",
       "Email                               0.981501        0.978079        0.974613   \n",
       "Print                               0.018499        0.021921        0.025387   \n",
       "\n",
       "Age Range                     75 years and over       All  \n",
       "Notice Preference Definition                               \n",
       "Email                                   0.96119  0.981928  \n",
       "Print                                   0.03881  0.018072  "
      ]
     },
     "execution_count": 31,
     "metadata": {},
     "output_type": "execute_result"
    }
   ],
   "source": [
    "# Als Vergleich normalisieren wir nach Spalten (normalize=1)\n",
    "pd.crosstab(\n",
    "    benachrichtigung['Notice Preference Definition'],\n",
    "    benachrichtigung['Age Range'],\n",
    "    margins=True, normalize=1\n",
    ")"
   ]
  },
  {
   "cell_type": "markdown",
   "metadata": {},
   "source": [
    "Hier sehen wir, dass jede Spalte in der Summe 1 ergibt. D.h. wir können die Tabelle prozentual nach Spalten interpretieren.\n",
    "Also z.B. erste Spalte: Von allen Nutzern, die zwischen 0 und 9 Jahren sind, möchten sich ca. 4% (0.040825 von 1) per Post informieren lassen.\n"
   ]
  },
  {
   "cell_type": "markdown",
   "metadata": {},
   "source": [
    "----"
   ]
  }
 ],
 "metadata": {
  "kernelspec": {
   "display_name": "Python 3 (ipykernel)",
   "language": "python",
   "name": "python3"
  },
  "language_info": {
   "codemirror_mode": {
    "name": "ipython",
    "version": 3
   },
   "file_extension": ".py",
   "mimetype": "text/x-python",
   "name": "python",
   "nbconvert_exporter": "python",
   "pygments_lexer": "ipython3",
   "version": "3.9.13"
  }
 },
 "nbformat": 4,
 "nbformat_minor": 4
}

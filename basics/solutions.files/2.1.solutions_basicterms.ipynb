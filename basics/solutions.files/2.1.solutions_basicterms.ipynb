{
 "cells": [
  {
   "cell_type": "code",
   "execution_count": null,
   "id": "7a77604b-97f1-4652-b929-8f66cd4a3b32",
   "metadata": {},
   "outputs": [],
   "source": [
    "import pandas as pd\n",
    "df = pd.read_csv(\"../data/Library_Usage.csv\")\n",
    "#eine erste Übersicht verschaffen:\n",
    "df"
   ]
  },
  {
   "cell_type": "code",
   "execution_count": null,
   "id": "ca23bd32-ecfb-4ea4-aaae-01c08e37ebfc",
   "metadata": {},
   "outputs": [],
   "source": [
    "# 1. Wie viele Merkmale besitzt der Datensatz? Die Merkmale entsprechen den Spalten\n",
    "len(df.columns)"
   ]
  },
  {
   "cell_type": "code",
   "execution_count": null,
   "id": "11ad2e54-ad95-4f80-a533-d1700c3b6f0a",
   "metadata": {},
   "outputs": [],
   "source": [
    "# 2.Wie groß ist die Stichprobengröße des Datensatzes?\n",
    "len(df)"
   ]
  },
  {
   "cell_type": "code",
   "execution_count": null,
   "id": "b664e067-47f6-4ac1-bd95-a2862d24adb6",
   "metadata": {},
   "outputs": [],
   "source": [
    "# 3. Wer oder was sind die Merkmalsträger? "
   ]
  },
  {
   "cell_type": "markdown",
   "id": "7a96c441-f9dd-4b1d-aec3-563478b4e484",
   "metadata": {},
   "source": [
    " Bibliothekskunden der SF Public Library."
   ]
  },
  {
   "cell_type": "code",
   "execution_count": null,
   "id": "ef440c74-68b2-44e3-a7b1-3c028da134a5",
   "metadata": {},
   "outputs": [],
   "source": [
    "# 4. Von wann bis wann wurden die Daten erhoben?"
   ]
  },
  {
   "cell_type": "markdown",
   "id": "832ab1d7-36e1-48e5-ba53-caf9af4037ac",
   "metadata": {},
   "source": [
    "Aus dem Datensatz lässt sich herauslesen, dass die ersten Nutzeregistrierungen 2003 waren Einführung Bibliothekssystem), die letzten 2022. Der Datensatz selbst wurde zuletzt 2023 aktualisiert (laut Webseite).\n",
    "\n",
    "Weiterführende Informationen sind auf der Webseite verfügbar: https://data.sfgov.org/Culture-and-Recreation/Library-Usage/qzz6-2jup/about_data"
   ]
  },
  {
   "cell_type": "code",
   "execution_count": null,
   "id": "d5b4fc74-4468-4cb4-bcba-0f63e7cb7719",
   "metadata": {},
   "outputs": [],
   "source": [
    "df['Year Patron Registered'].value_counts(normalize=True)"
   ]
  },
  {
   "cell_type": "code",
   "execution_count": null,
   "id": "9ea4b26b-6139-4698-948a-13ce6ac985f4",
   "metadata": {},
   "outputs": [],
   "source": [
    "# 5. Wie lässt sich die Grundgesamtheit beschreiben? Handelt es sich um eine Vollerhebung?"
   ]
  },
  {
   "cell_type": "markdown",
   "id": "9410c2a5-c07d-4768-aa05-1906d777f114",
   "metadata": {},
   "source": [
    "Grundgesamtheit sind alle Bibliothekskunden der San Francisco Library. Wahrscheinlich handelt es sich um eine Vollerhebung. Es lässt sich diskutieren, ob die Grundgesamtheit größer gefasst werden kann (z.B. alle Kunden von Bibliotheken in den USA oder alle Kunden von öffentlichen Bibliotheken). Was meinst Du: sind die Daten repräsentativ für diese Grundgesamtheiten?"
   ]
  },
  {
   "cell_type": "code",
   "execution_count": null,
   "id": "1f293941-1899-45cb-842a-ea12ab9e4da9",
   "metadata": {},
   "outputs": [],
   "source": [
    "# 6. Welche Merkmale sind stetig? Welche diskret?\n",
    "#\n",
    "#Aus der Beschreibung der Merkmale des Datensatzes aber auch einfach bereits mit\n",
    "#df\n",
    "#lässt sich erkennen, dass nur die Variablen 'Total Checkouts' und 'Total Renewals' stetig sind. \n",
    "#Alle anderen sind diskret"
   ]
  },
  {
   "cell_type": "code",
   "execution_count": null,
   "id": "c381957c-c4f7-4c94-85f0-81d29e802ebf",
   "metadata": {},
   "outputs": [],
   "source": [
    "# 7. Welchem Skalenniveau entsprechen die einzelnen Merkmale (Nominal-, Ordinal- oder Metrische Skala)? \n",
    "#\n",
    "# Siehe wieder \n",
    "#df"
   ]
  },
  {
   "cell_type": "code",
   "execution_count": null,
   "id": "1f92e797-4613-402c-aed1-5336d4037d57",
   "metadata": {},
   "outputs": [],
   "source": [
    "# Ordinal: 'Age Range'"
   ]
  },
  {
   "cell_type": "code",
   "execution_count": null,
   "id": "96bccd59-35b6-4ba0-b1d1-28e36cd65c33",
   "metadata": {},
   "outputs": [],
   "source": [
    "# Metrisch: 'Total Checkouts', 'Total Renewals', 'Circulation Active Year', 'Year Patron registered'"
   ]
  },
  {
   "cell_type": "code",
   "execution_count": null,
   "id": "d4e121f7-5d4c-4505-a205-a73b8c02347e",
   "metadata": {},
   "outputs": [],
   "source": [
    "# Nominal: 'Patron Type Code', 'Patron Type Definition', 'Home Library Code', \n",
    "# 'Home Library Definition', 'Circulation Active Month', 'Notice Preference Code', \n",
    "# 'Notice Preference Definition', 'Provided Email Address', 'Within San Francisco County'\n"
   ]
  },
  {
   "cell_type": "code",
   "execution_count": null,
   "id": "b142bd18-a0a3-488e-91f0-786c49ebc28c",
   "metadata": {},
   "outputs": [],
   "source": [
    "# 8. Enthält der Datensatz fehlende Werte? Ja, z.B. 'Circulation Active Year'"
   ]
  },
  {
   "cell_type": "code",
   "execution_count": null,
   "id": "b14365da-88c7-4ca4-bad3-f9f96b371f1b",
   "metadata": {},
   "outputs": [],
   "source": [
    "df[df['Circulation Active Year'].isna()]"
   ]
  },
  {
   "cell_type": "code",
   "execution_count": null,
   "id": "3b096bc8-81a0-4bdd-ae69-3c6570abebb4",
   "metadata": {},
   "outputs": [],
   "source": [
    "df[df['Circulation Active Year'].isna()]"
   ]
  },
  {
   "cell_type": "code",
   "execution_count": null,
   "id": "e4ae3d65-3ac8-4bf2-922a-41b14a23ede1",
   "metadata": {},
   "outputs": [],
   "source": [
    "# 9. Handelt es sich um Querschnitts-, Längsschnitss- oder Paneldaten? \n",
    "#\n",
    "# Querschnittsdaten"
   ]
  }
 ],
 "metadata": {
  "kernelspec": {
   "display_name": "Python 3 (ipykernel)",
   "language": "python",
   "name": "python3"
  },
  "language_info": {
   "codemirror_mode": {
    "name": "ipython",
    "version": 3
   },
   "file_extension": ".py",
   "mimetype": "text/x-python",
   "name": "python",
   "nbconvert_exporter": "python",
   "pygments_lexer": "ipython3",
   "version": "3.9.13"
  }
 },
 "nbformat": 4,
 "nbformat_minor": 5
}

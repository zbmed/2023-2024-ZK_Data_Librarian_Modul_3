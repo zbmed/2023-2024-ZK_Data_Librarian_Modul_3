{
 "cells": [
  {
   "cell_type": "code",
   "execution_count": 52,
   "metadata": {},
   "outputs": [
    {
     "data": {
      "text/plain": [
       "Index(['Patron Type Code', 'Patron Type Definition', 'Total Checkouts',\n",
       "       'Total Renewals', 'Age Range', 'Home Library Code',\n",
       "       'Home Library Definition', 'Circulation Active Month',\n",
       "       'Circulation Active Year', 'Notice Preference Code',\n",
       "       'Notice Preference Definition', 'Provided Email Address',\n",
       "       'Year Patron Registered', 'Outside of County', 'Supervisor District'],\n",
       "      dtype='object')"
      ]
     },
     "execution_count": 52,
     "metadata": {},
     "output_type": "execute_result"
    }
   ],
   "source": [
    "import pandas as pd\n",
    "df = pd.read_csv(\"../data/Library_Usage.csv\")\n",
    "df.columns"
   ]
  },
  {
   "cell_type": "code",
   "execution_count": 45,
   "metadata": {},
   "outputs": [
    {
     "name": "stdout",
     "output_type": "stream",
     "text": [
      "38242\n",
      "3\n",
      "70091\n",
      "0.16035971358938997\n"
     ]
    }
   ],
   "source": [
    "# Filter Sie den Datensatz nach Kindern unter 10 Jahren. Wie viele Einträge erhalten Sie?\n",
    "\n",
    "# alternative\n",
    "(df['Age Range'] == '0 to 9 years').sum()\n",
    "\n",
    "print(len(df[df['Age Range'] == '0 to 9 years']))\n",
    "\n",
    "# Gibt es Personen mit mehr als 20000 Ausleihen?\n",
    "\n",
    "# alternative\n",
    "(df['Total Checkouts'] > 20000).sum()\n",
    "\n",
    "print(len(df[df['Total Checkouts'] > 20000]))\n",
    "\n",
    "\n",
    "# Wie viele Personen stammen aus dem Norden San Franciscos (Supervisor Districts 1, 2 und 3)? Nutzen Sie die Funktion Series.isin().\n",
    "\n",
    "print(len(df[df['Supervisor District'].isin([1, 2, 3])]))\n",
    "\n",
    "# alternative\n",
    "df['Supervisor District'].isin([1, 2, 3]).sum()\n",
    "\n",
    "\n",
    "# Wie viele Prozent der Beobachtungen haben eine Membership Duration von Null Monaten?\n",
    "\n",
    "# alternative\n",
    "(df['Membership Duration'] == 0).mean()\n",
    "\n",
    "print(len(df[df['Membership Duration'] == 0])/len(df))\n",
    "\n"
   ]
  }
 ],
 "metadata": {
  "kernelspec": {
   "display_name": "Python 3",
   "language": "python",
   "name": "python3"
  },
  "language_info": {
   "codemirror_mode": {
    "name": "ipython",
    "version": 3
   },
   "file_extension": ".py",
   "mimetype": "text/x-python",
   "name": "python",
   "nbconvert_exporter": "python",
   "pygments_lexer": "ipython3",
   "version": "3.7.4"
  }
 },
 "nbformat": 4,
 "nbformat_minor": 2
}
